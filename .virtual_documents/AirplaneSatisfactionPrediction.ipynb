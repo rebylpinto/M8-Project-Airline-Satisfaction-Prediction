





import pandas as pd
import numpy as np
import plotly.express as px
import matplotlib.pyplot as plt
import seaborn as sns

from sklearn.model_selection import train_test_split
from sklearn.preprocessing import StandardScaler, LabelEncoder
from sklearn.neighbors import KNeighborsClassifier
from sklearn.linear_model import LogisticRegression
from sklearn.ensemble import RandomForestClassifier
from sklearn.metrics import ConfusionMatrixDisplay 








df = pd.read_csv('data/train.csv') 





df.head()


df.dtypes





df.drop('Unnamed: 0', axis=1, inplace=True) 


df['Gender'].head()





df.shape





df.isna().sum()





# Calculate the median of the 'Arrival Delay in Minutes' column
median_arrival_delay = df['Arrival Delay in Minutes'].median()


# Fill the missing values with the median
df['Arrival Delay in Minutes'].fillna(median_arrival_delay, inplace=True)





df.columns =df.columns.str.lower()





df.columns








# Distribution of Satisfaction
fig = px.pie(df, names='satisfaction')
                
fig.update_layout(title='Flight Distance vs. Satisfaction')








# # Box plot of Flight Distance vs. Satisfaction
fig = px.box(df, x='satisfaction', y='flight distance') 
    
fig.update_layout(title='Flight Distance vs. Satisfaction',
                  xaxis_title = 'satisfaction',
                  yaxis_title = 'Flight Distance')
  

fig.show()









# Count plot of Class vs. Satisfaction
fig = px.histogram(df, x='class', color='satisfaction')

fig.update_layout(title='Class vs. Satisfaction')

fig.show()








# Box plot of Inflight Wifi Service vs. Satisfaction
fig = px.box(df, x='satisfaction', y='inflight wifi service') 
                 
fig.update_layout(title='Inflight Wifi Service vs. Satisfaction')            
    
fig.show()





** 5. Correlation Matrix


#Correlation Matrix
numeric_df = df.select_dtypes(include=np.number)
correlation_matrix = numeric_df.corr()
fig_corr = px.imshow(correlation_matrix, text_auto=True, title='Correlation Matrix')

fig.show()





# Create a histogram of 'departure delay in minutes'
fig = px.scatter(df,
                     x='departure delay in minutes',
                      y = 'arrival delay in minutes',
                     color='satisfaction',
                     title='Departure Delay Distribution (with Satisfaction)')


fig.show()











df['satisfaction'] = df['satisfaction'].map({'neutral or dissatisfied': 0, 'satisfied': 1})



df['satisfaction'].map


df['gender'].head(15)


df['gender'] = df['gender'].map({'Male': 1, 'Female': 2})


df['gender'].map


df.dtypes


df['customer type'] = df['customer type'].map({'Loyal Customer': 1, 'disloyal Customer': 0})


df['customer type'].map


df['class'] = df['class'].map({'Business': 1,'Eco Plus' : 2, 'Eco': 3})


df['class'].map


df['type of travel'] = df['type of travel'].map({'Personal Travel':1, 'Business travel' :2})





df.head(15)





df.to_csv('data/clean_train.csv', index=False)


clm = pd.read_csv('data/clean_train.csv')





sns.heatmap(clm.corr(numeric_only = True)[['satisfaction']].sort_values(by='satisfaction', ascending=False),
            vmin = -1,
            vmax = 1,
            annot = True,
            cmap= 'coolwarm');
            








clm.dtypes





clm['satisfaction'].value_counts(normalize = True)








X = clm.drop(columns='satisfaction')
y = clm['satisfaction']


X_train, X_test, y_train, y_test = train_test_split(X, y, random_state=42, stratify = y)





sc = StandardScaler()

X_train_sc = sc.fit_transform(X_train)
X_test_sc = sc.transform(X_test)





knn = KNeighborsClassifier()





# Fit
knn.fit(X_train_sc, y_train)


# Training accuracy score
knn.score(X_train_sc, y_train)


#Testing accucary score

knn.score(X_test_sc, y_test)





# Confusion Matrix
ConfusionMatrixDisplay.from_estimator(knn, X_test_sc, y_test, cmap = 'Greens');





knn = KNeighborsClassifier(n_neighbors = 5)

knn.fit(X_train_sc, y_train)

knn.score(X_test_sc, y_test)


scores = []

for k in range(3, 32, 2):
    knn = KNeighborsClassifier(n_neighbors = k)
    knn.fit(X_train_sc, y_train)
    train_score = knn.score(X_train_sc, y_train)
    test_score = knn.score (X_test_sc, y_test)

    scores.append({'k' : k, 'train_score': train_score, 'test_score' : test_score})

df_score = pd.DataFrame(scores)




df_score





Lets visualize this


#visualize

sns.lineplot(data =df_score,x ='k', y ='train_score',c ='navy', label = 'Train')
sns.lineplot(data = df_score, x = 'k', y = 'test_score', c= 'orange', label = 'Test')
plt.xticks(range(3, 32, 2));








logr = LogisticRegression(max_iter=10000)


logr.fit(X_train, y_train)


print(logr.feature_names_in_)


logr.score(X_train, y_train)


logr.score(X_test, y_test)





ConfusionMatrixDisplay.from_estimator(logr, X_test, y_test, cmap = 'Reds');








rf = RandomForestClassifier(random_state = 42)


rf.fit(X_train, y_train)


rf.score(X_train, y_train)


rf.score(X_test, y_test)


Evalute using ConfusionMatrix


ConfusionMatrixDisplay.from_estimator(logr, X_test, y_test, cmap = 'Blues');






