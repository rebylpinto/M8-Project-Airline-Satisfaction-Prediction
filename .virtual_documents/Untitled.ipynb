





import pandas as pd
import numpy as np
import plotly.express as px
import matplotlib.pyplot as plt
import seaborn as sns

from sklearn.model_selection import train_test_split
from sklearn.preprocessing import StandardScaler, LabelEncoder
from sklearn.neighbors import KNeighborsClassifier
from sklearn.linear_model import LogisticRegression
from sklearn.ensemble import RandomForestClassifier







df = pd.read_csv('data/train.csv') 





df.head()


df.dtypes





df.drop('Unnamed: 0', axis=1, inplace=True) 


df['Gender'].head()





df.shape





df.isna().sum()





# Calculate the median of the 'Arrival Delay in Minutes' column
median_arrival_delay = df['Arrival Delay in Minutes'].median()


# Fill the missing values with the median
df['Arrival Delay in Minutes'].fillna(median_arrival_delay, inplace=True)





df.columns =df.columns.str.lower()





df.columns








# Distribution of Satisfaction
fig = px.pie(df, names='satisfaction')
                
fig.update_layout(title='Flight Distance vs. Satisfaction')








# # Box plot of Flight Distance vs. Satisfaction
fig = px.box(df, x='satisfaction', y='flight distance') 
    
fig.update_layout(title='Flight Distance vs. Satisfaction',
                  xaxis_title = 'satisfaction',
                  yaxis_title = 'Flight Distance')
  

fig.show()









# Count plot of Class vs. Satisfaction
fig = px.histogram(df, x='class', color='satisfaction')

fig.update_layout(title='Class vs. Satisfaction')

fig.show()








# Box plot of Inflight Wifi Service vs. Satisfaction
fig = px.box(df, x='satisfaction', y='inflight wifi service') 
                 
fig.update_layout(title='Inflight Wifi Service vs. Satisfaction')            
    
fig.show()





** 5. Correlation Matrix


#Correlation Matrix
numeric_df = df.select_dtypes(include=np.number)
correlation_matrix = numeric_df.corr()
fig_corr = px.imshow(correlation_matrix, text_auto=True, title='Correlation Matrix')

fig.show()





# Create a histogram of 'departure delay in minutes'
fig = px.scatter(df,
                     x='departure delay in minutes',
                      y = 'arrival delay in minutes',
                     color='satisfaction',
                     title='Departure Delay Distribution (with Satisfaction)')


fig.show()











df['satisfaction'] = df['satisfaction'].map({'neutral or dissatisfied': 0, 'satisfied': 1})



df['satisfaction'].map


df['gender'].head(15)


df['gender'] = df['gender'].map({'Male': 1, 'Female': 2})


df['gender'].map


df.dtypes


df['customer type'] = df['customer type'].map({'Loyal Customer': 1, 'disloyal Customer': 0})


df['customer type'].map


df['class'] = df['class'].map({'Business': 1,'Eco Plus' : 2, 'Eco': 3})


df['class'].map


df['type of travel'] = df['type of travel'].map({'Personal Travel':1, 'Business travel' :2})





df.head(15)





df.to_csv('data/clean_train.csv', index=False)








clm = pd.read_csv('data/clean_train.csv')





clm['satisfaction'].value_counts(normalize = True)








X = clm.drop('satisfaction', axis=1)
y = clm['satisfaction']


X_train, X_test, y_train, y_test = train_test_split(X, y, test_size=0.2, random_state=42, stratify = y)





sc = StandardScaler()

X_train_scaled = sc.fit_transform(X_train)
X_test_scaled = sc.transform(X_test)


Let's in
